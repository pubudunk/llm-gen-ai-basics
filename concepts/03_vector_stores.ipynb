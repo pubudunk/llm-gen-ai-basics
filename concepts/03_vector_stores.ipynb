{
 "cells": [
  {
   "cell_type": "markdown",
   "id": "b01868fd",
   "metadata": {},
   "source": [
    "## Vector Stores\n",
    "\n",
    "Readings:\n",
    "\n",
    "https://python.langchain.com/docs/concepts/vectorstores/"
   ]
  },
  {
   "cell_type": "code",
   "execution_count": 1,
   "id": "e91a043c",
   "metadata": {},
   "outputs": [],
   "source": [
    "# Install package if not Install\n",
    "# !pip install -qU langchain-google-genai langchain-core"
   ]
  },
  {
   "cell_type": "code",
   "execution_count": 2,
   "id": "1b3ad253",
   "metadata": {},
   "outputs": [],
   "source": [
    "import getpass\n",
    "import os\n",
    "\n",
    "if not os.environ.get(\"GOOGLE_API_KEY\"):\n",
    "  os.environ[\"GOOGLE_API_KEY\"] = getpass.getpass(\"Enter API key for Google Gemini: \")\n",
    "\n",
    "from langchain_google_genai import GoogleGenerativeAIEmbeddings\n",
    "\n",
    "embeddings_model = GoogleGenerativeAIEmbeddings(model=\"models/gemini-embedding-001\")"
   ]
  },
  {
   "cell_type": "markdown",
   "id": "ae44696e",
   "metadata": {},
   "source": [
    "#### In Memory Vector Store"
   ]
  },
  {
   "cell_type": "code",
   "execution_count": 3,
   "id": "f29752ad",
   "metadata": {},
   "outputs": [],
   "source": [
    "from langchain_core.vectorstores import InMemoryVectorStore\n",
    "\n",
    "in_mem_vector_store = InMemoryVectorStore(embeddings_model)"
   ]
  },
  {
   "cell_type": "code",
   "execution_count": 4,
   "id": "edeba7a0",
   "metadata": {},
   "outputs": [
    {
     "data": {
      "text/plain": [
       "['doc1', 'doc2', 'doc3']"
      ]
     },
     "execution_count": 4,
     "metadata": {},
     "output_type": "execute_result"
    }
   ],
   "source": [
    "from langchain_core.documents import Document\n",
    "\n",
    "document_1 = Document(\n",
    "    page_content=\"I had chocolate chip pancakes and scrambled eggs for breakfast this morning.\",\n",
    "    metadata={\"source\": \"tweet\"},\n",
    ")\n",
    "\n",
    "document_2 = Document(\n",
    "    page_content=\"The weather forecast for tomorrow is cloudy and overcast, with a high of 62 degrees.\",\n",
    "    metadata={\"source\": \"news\"},\n",
    ")\n",
    "\n",
    "document_3 = Document(\n",
    "    page_content=\"Albert Einstein was a theoretical physicist who developed the theory of relativity.\",\n",
    "    metadata={\n",
    "        \"source\": \"wikipedia\",\n",
    "        \"title\": \"Albert Einstein\",\n",
    "        \"url\": \"https://en.wikipedia.org/wiki/Albert_Einstein\",\n",
    "        \"last_updated\": \"2025-01-01\",\n",
    "        \"lang\": \"en\"\n",
    "    }\n",
    ")\n",
    "\n",
    "documents = [document_1, document_2, document_3]\n",
    "\n",
    "# You should usually provide IDs for the documents you add to the vector store, \n",
    "# so that instead of adding the same document multiple times, you can update the existing document.\n",
    "\n",
    "docs = in_mem_vector_store.add_documents(documents=documents, ids=[\"doc1\", \"doc2\", \"doc3\"])\n",
    "docs"
   ]
  },
  {
   "cell_type": "markdown",
   "id": "1e0b01c0",
   "metadata": {},
   "source": [
    "##### Delete"
   ]
  },
  {
   "cell_type": "code",
   "execution_count": 5,
   "id": "11d41104",
   "metadata": {},
   "outputs": [],
   "source": [
    "in_mem_vector_store.delete(ids=[\"doc1\"])\n"
   ]
  },
  {
   "cell_type": "markdown",
   "id": "ca6616ac",
   "metadata": {},
   "source": [
    "#### ChromaDB"
   ]
  },
  {
   "cell_type": "code",
   "execution_count": 6,
   "id": "3a81581b",
   "metadata": {},
   "outputs": [],
   "source": [
    "# Install package once\n",
    "# !pip install -U langchain-chroma\n",
    "\n",
    "from langchain_chroma import Chroma\n",
    "\n",
    "vector_store_chromadb = Chroma(\n",
    "    collection_name=\"example_collection\",\n",
    "    embedding_function=embeddings_model,\n",
    "    persist_directory=\"./chroma_langchain_db\",  # Where to save data locally, remove if not necessary\n",
    ")"
   ]
  },
  {
   "cell_type": "code",
   "execution_count": 7,
   "id": "9a5ec4d4",
   "metadata": {},
   "outputs": [
    {
     "data": {
      "text/plain": [
       "['doc1', 'doc2', 'doc3']"
      ]
     },
     "execution_count": 7,
     "metadata": {},
     "output_type": "execute_result"
    }
   ],
   "source": [
    "docs = vector_store_chromadb.add_documents(documents=documents, ids=[\"doc1\", \"doc2\", \"doc3\"])\n",
    "docs"
   ]
  },
  {
   "cell_type": "markdown",
   "id": "12ac267e",
   "metadata": {},
   "source": [
    "#### Search\n",
    "\n",
    "Vector stores embed and store the documents that added. If we pass in a query, the vectorstore will embed the query, perform a similarity search over the embedded documents, and return the most similar ones."
   ]
  },
  {
   "cell_type": "code",
   "execution_count": 8,
   "id": "b83100b3",
   "metadata": {},
   "outputs": [
    {
     "data": {
      "text/plain": [
       "[Document(id='doc3', metadata={'lang': 'en', 'url': 'https://en.wikipedia.org/wiki/Albert_Einstein', 'source': 'wikipedia', 'title': 'Albert Einstein', 'last_updated': '2025-01-01'}, page_content='Albert Einstein was a theoretical physicist who developed the theory of relativity.'),\n",
       " Document(id='doc1', metadata={'source': 'tweet'}, page_content='I had chocolate chip pancakes and scrambled eggs for breakfast this morning.'),\n",
       " Document(id='doc2', metadata={'source': 'news'}, page_content='The weather forecast for tomorrow is cloudy and overcast, with a high of 62 degrees.')]"
      ]
     },
     "execution_count": 8,
     "metadata": {},
     "output_type": "execute_result"
    }
   ],
   "source": [
    "query = \"Einstein\"\n",
    "result = vector_store_chromadb.similarity_search(query)\n",
    "result"
   ]
  },
  {
   "cell_type": "markdown",
   "id": "342cdac6",
   "metadata": {},
   "source": [
    "#### Search Parameters / Metadata filtering\n",
    "\n",
    "Typical search parameters:\n",
    "- query (str) - Text to look up documents similar to.\n",
    "- k (int) - Number of documents to return. Defaults to 4.\n",
    "- filter (dict | None) - Dictionary of argument(s) to filter on metadata"
   ]
  },
  {
   "cell_type": "code",
   "execution_count": 9,
   "id": "fd523ab6",
   "metadata": {},
   "outputs": [
    {
     "data": {
      "text/plain": [
       "[Document(id='doc3', metadata={'lang': 'en', 'last_updated': '2025-01-01', 'source': 'wikipedia', 'title': 'Albert Einstein', 'url': 'https://en.wikipedia.org/wiki/Albert_Einstein'}, page_content='Albert Einstein was a theoretical physicist who developed the theory of relativity.')]"
      ]
     },
     "execution_count": 9,
     "metadata": {},
     "output_type": "execute_result"
    }
   ],
   "source": [
    "vector_store_chromadb.similarity_search(\n",
    "    \"Einstein\",\n",
    "    k=2,\n",
    "    filter={\"source\": \"wikipedia\"},\n",
    ")\n"
   ]
  },
  {
   "cell_type": "code",
   "execution_count": 10,
   "id": "1d780cc3",
   "metadata": {},
   "outputs": [
    {
     "data": {
      "text/plain": [
       "[]"
      ]
     },
     "execution_count": 10,
     "metadata": {},
     "output_type": "execute_result"
    }
   ],
   "source": [
    "vector_store_chromadb.similarity_search(\n",
    "    \"Einstein\",\n",
    "    k=2,\n",
    "    filter={\"source\": \"www\"}, # No result for source - www\n",
    ")"
   ]
  }
 ],
 "metadata": {
  "kernelspec": {
   "display_name": "Python 3",
   "language": "python",
   "name": "python3"
  },
  "language_info": {
   "codemirror_mode": {
    "name": "ipython",
    "version": 3
   },
   "file_extension": ".py",
   "mimetype": "text/x-python",
   "name": "python",
   "nbconvert_exporter": "python",
   "pygments_lexer": "ipython3",
   "version": "3.12.10"
  }
 },
 "nbformat": 4,
 "nbformat_minor": 5
}

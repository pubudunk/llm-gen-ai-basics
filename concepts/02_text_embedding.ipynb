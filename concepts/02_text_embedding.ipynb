{
 "cells": [
  {
   "cell_type": "markdown",
   "id": "b01868fd",
   "metadata": {},
   "source": [
    "## Text Embedding\n",
    "\n",
    "Readings:\n",
    "\n",
    "https://python.langchain.com/docs/how_to/embed_text/"
   ]
  },
  {
   "cell_type": "code",
   "execution_count": 57,
   "id": "e91a043c",
   "metadata": {},
   "outputs": [],
   "source": [
    "# Install package if not Install\n",
    "# !pip install -qU langchain-google-genai"
   ]
  },
  {
   "cell_type": "markdown",
   "id": "1e95b9bb",
   "metadata": {},
   "source": [
    "gemini-embedding-001 is a is a sentence embedding model designed for semantic tasks like search, clustering, and classification. \n",
    "Its output of a string is a single vector that represents the meaning of the entire input text.\n",
    "\n",
    "In contract when embedding happens in LLM models, it breaks down the strings to tokens and generate contextual embeddings for each token"
   ]
  },
  {
   "cell_type": "code",
   "execution_count": 58,
   "id": "1b3ad253",
   "metadata": {},
   "outputs": [],
   "source": [
    "import getpass\n",
    "import os\n",
    "\n",
    "if not os.environ.get(\"GOOGLE_API_KEY\"):\n",
    "  os.environ[\"GOOGLE_API_KEY\"] = getpass.getpass(\"Enter API key for Google Gemini: \")\n",
    "\n",
    "from langchain_google_genai import GoogleGenerativeAIEmbeddings\n",
    "\n",
    "embeddings_model = GoogleGenerativeAIEmbeddings(model=\"models/gemini-embedding-001\")"
   ]
  },
  {
   "cell_type": "markdown",
   "id": "ae44696e",
   "metadata": {},
   "source": [
    "#### Embed a Document"
   ]
  },
  {
   "cell_type": "code",
   "execution_count": 59,
   "id": "f29752ad",
   "metadata": {},
   "outputs": [
    {
     "data": {
      "text/plain": [
       "(6, 3072)"
      ]
     },
     "execution_count": 59,
     "metadata": {},
     "output_type": "execute_result"
    }
   ],
   "source": [
    "document_embeddings = embeddings_model.embed_documents(\n",
    "    [\n",
    "        \"Hi there!\",\n",
    "        \"Oh, hello!\",\n",
    "        \"විශ්වය අසීමිත විශාලත්වයකි\",\n",
    "        \"Plate tectonics drive continental drift.\",\n",
    "        \"光合作用是植物的能量來源.\",\n",
    "        \"asdlkjqweoiu ### @@ 123456 !!! zzzz\"\n",
    "    ]\n",
    ")\n",
    "len(document_embeddings), len(document_embeddings[0])"
   ]
  },
  {
   "cell_type": "code",
   "execution_count": 60,
   "id": "e9b40659",
   "metadata": {},
   "outputs": [
    {
     "data": {
      "text/plain": [
       "[-0.020293528214097023,\n",
       " 0.00774721521884203,\n",
       " 0.0071714180521667,\n",
       " -0.0875835195183754,\n",
       " -0.015736732631921768]"
      ]
     },
     "execution_count": 60,
     "metadata": {},
     "output_type": "execute_result"
    }
   ],
   "source": [
    "document_embeddings[0][:5] # Check first 5 elements of first row"
   ]
  },
  {
   "cell_type": "markdown",
   "id": "d110b78d",
   "metadata": {},
   "source": [
    "#### Embed a Query"
   ]
  },
  {
   "cell_type": "code",
   "execution_count": 61,
   "id": "49fb62db",
   "metadata": {},
   "outputs": [
    {
     "data": {
      "text/plain": [
       "3072"
      ]
     },
     "execution_count": 61,
     "metadata": {},
     "output_type": "execute_result"
    }
   ],
   "source": [
    "query_embeddings = embeddings_model.embed_query(\"Hi there?\")\n",
    "len(query_embeddings)"
   ]
  },
  {
   "cell_type": "code",
   "execution_count": 62,
   "id": "3d628da2",
   "metadata": {},
   "outputs": [
    {
     "data": {
      "text/plain": [
       "[-0.02153073623776436,\n",
       " 0.011656977236270905,\n",
       " 0.008365157060325146,\n",
       " -0.08781148493289948,\n",
       " -0.014667927287518978]"
      ]
     },
     "execution_count": 62,
     "metadata": {},
     "output_type": "execute_result"
    }
   ],
   "source": [
    "query_embeddings[:5]  # Check first 5 elements"
   ]
  },
  {
   "cell_type": "markdown",
   "id": "95a97234",
   "metadata": {},
   "source": [
    "### Measure similarity"
   ]
  },
  {
   "cell_type": "markdown",
   "id": "aa980057",
   "metadata": {},
   "source": [
    "-  Cosine Similarity: Measures the cosine of the angle between two vectors.\n",
    "-  Euclidean Distance: Measures the straight-line distance between two points.\n",
    "-  Dot Product: Measures the projection of one vector onto another."
   ]
  },
  {
   "cell_type": "code",
   "execution_count": 63,
   "id": "bf1db9b5",
   "metadata": {},
   "outputs": [],
   "source": [
    "import numpy as np\n",
    "\n",
    "def cosine_similarity(vec1, vec2):\n",
    "    dot_product = np.dot(vec1, vec2)\n",
    "    norm_vec1 = np.linalg.norm(vec1)\n",
    "    norm_vec2 = np.linalg.norm(vec2)\n",
    "    return dot_product / (norm_vec1 * norm_vec2)\n",
    "\n"
   ]
  },
  {
   "cell_type": "code",
   "execution_count": 64,
   "id": "7001aee4",
   "metadata": {},
   "outputs": [
    {
     "name": "stdout",
     "output_type": "stream",
     "text": [
      "Cosine Similarity: 0.9634565297958197\n",
      "Cosine Similarity: 0.9410521678397361\n",
      "Cosine Similarity: 0.7341226126548602\n",
      "Cosine Similarity: 0.7520968708894665\n",
      "Cosine Similarity: 0.7097672991439838\n",
      "Cosine Similarity: 0.7678982878401283\n"
     ]
    }
   ],
   "source": [
    "for i in range(len(document_embeddings)):   \n",
    "    similarity = cosine_similarity(query_embeddings, document_embeddings[i])\n",
    "    print(\"Cosine Similarity:\", similarity)"
   ]
  }
 ],
 "metadata": {
  "kernelspec": {
   "display_name": "Python 3",
   "language": "python",
   "name": "python3"
  },
  "language_info": {
   "codemirror_mode": {
    "name": "ipython",
    "version": 3
   },
   "file_extension": ".py",
   "mimetype": "text/x-python",
   "name": "python",
   "nbconvert_exporter": "python",
   "pygments_lexer": "ipython3",
   "version": "3.12.10"
  }
 },
 "nbformat": 4,
 "nbformat_minor": 5
}

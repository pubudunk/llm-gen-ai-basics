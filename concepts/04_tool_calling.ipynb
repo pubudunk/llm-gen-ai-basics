{
 "cells": [
  {
   "cell_type": "markdown",
   "id": "b01868fd",
   "metadata": {},
   "source": [
    "## AI Tool Calling\n",
    "\n",
    "Readings:\n",
    "\n",
    "https://python.langchain.com/docs/concepts/tool_calling/"
   ]
  },
  {
   "cell_type": "code",
   "execution_count": 1,
   "id": "e91a043c",
   "metadata": {},
   "outputs": [],
   "source": [
    "# Install package if not Install\n",
    "# !pip install -qU langchain-google-genai"
   ]
  },
  {
   "cell_type": "markdown",
   "id": "1e95b9bb",
   "metadata": {},
   "source": [
    "Key concepts\n",
    "\n",
    "- Tool Creation: Use the @tool decorator to create a tool. A tool is an association between a function and its schema.\n",
    "- Tool Binding: The tool needs to be connected to a model that supports tool calling. This gives the model awareness of the tool and the associated input schema required by the tool.\n",
    "- Tool Calling: When appropriate, the model can decide to call a tool and ensure its response conforms to the tool's input schema.\n",
    "- Tool Execution: The tool can be executed using the arguments provided by the model."
   ]
  },
  {
   "cell_type": "code",
   "execution_count": 2,
   "id": "1b3ad253",
   "metadata": {},
   "outputs": [],
   "source": [
    "# Set API Key in Windows Environment Variables 'GOOGLE_API_KEY'\n",
    "\n",
    "import getpass\n",
    "import os\n",
    "\n",
    "if not os.environ.get(\"GOOGLE_API_KEY\"):\n",
    "  os.environ[\"GOOGLE_API_KEY\"] = getpass.getpass(\"Enter API key for Google Gemini: \")\n",
    "\n",
    "from langchain.chat_models import init_chat_model\n",
    "\n",
    "model = init_chat_model(\"gemini-2.5-flash\", model_provider=\"google_genai\")"
   ]
  },
  {
   "cell_type": "markdown",
   "id": "a0691874",
   "metadata": {},
   "source": [
    "#### Tool Creation"
   ]
  },
  {
   "cell_type": "code",
   "execution_count": 3,
   "id": "6c6b6385",
   "metadata": {},
   "outputs": [],
   "source": [
    "from langchain_core.tools import tool\n",
    "\n",
    "from langchain_core.messages import HumanMessage, AIMessage, ToolMessage\n",
    "\n",
    "@tool\n",
    "def multiply(a: int, b: int) -> int:\n",
    "    \"\"\"Multiply a and b.\n",
    "\n",
    "    Args:\n",
    "        a: first int\n",
    "        b: second int\n",
    "    \"\"\"\n",
    "    return a * b"
   ]
  },
  {
   "cell_type": "markdown",
   "id": "163fd50b",
   "metadata": {},
   "source": [
    "#### Tool Binding"
   ]
  },
  {
   "cell_type": "code",
   "execution_count": 4,
   "id": "b357f87b",
   "metadata": {},
   "outputs": [],
   "source": [
    "\n",
    "llm_with_tools = model.bind_tools([multiply])"
   ]
  },
  {
   "cell_type": "markdown",
   "id": "6f337e19",
   "metadata": {},
   "source": [
    "#### Tool Calling"
   ]
  },
  {
   "cell_type": "code",
   "execution_count": 5,
   "id": "6322472a",
   "metadata": {},
   "outputs": [],
   "source": [
    "result = llm_with_tools.invoke(\"Hello world!\")"
   ]
  },
  {
   "cell_type": "code",
   "execution_count": 6,
   "id": "8a8842a9",
   "metadata": {},
   "outputs": [
    {
     "data": {
      "text/plain": [
       "AIMessage(content='Hello! How can I help you today?', additional_kwargs={}, response_metadata={'prompt_feedback': {'block_reason': 0, 'safety_ratings': []}, 'finish_reason': 'STOP', 'model_name': 'gemini-2.5-flash', 'safety_ratings': []}, id='run--19c89689-e9c4-4223-980b-5deeab266565-0', usage_metadata={'input_tokens': 66, 'output_tokens': 9, 'total_tokens': 75, 'input_token_details': {'cache_read': 0}})"
      ]
     },
     "execution_count": 6,
     "metadata": {},
     "output_type": "execute_result"
    }
   ],
   "source": [
    "result"
   ]
  },
  {
   "cell_type": "code",
   "execution_count": 7,
   "id": "b53e6169",
   "metadata": {},
   "outputs": [
    {
     "data": {
      "text/plain": [
       "[]"
      ]
     },
     "execution_count": 7,
     "metadata": {},
     "output_type": "execute_result"
    }
   ],
   "source": [
    "result.tool_calls"
   ]
  },
  {
   "cell_type": "code",
   "execution_count": 8,
   "id": "df66a430",
   "metadata": {},
   "outputs": [],
   "source": [
    "messages = [HumanMessage(content=\"What is 2 multiplied by 3?\")]\n",
    "ai_msg: AIMessage = llm_with_tools.invoke(messages)\n"
   ]
  },
  {
   "cell_type": "code",
   "execution_count": 9,
   "id": "face367f",
   "metadata": {},
   "outputs": [
    {
     "data": {
      "text/plain": [
       "AIMessage(content='', additional_kwargs={'function_call': {'name': 'multiply', 'arguments': '{\"b\": 3.0, \"a\": 2.0}'}}, response_metadata={'prompt_feedback': {'block_reason': 0, 'safety_ratings': []}, 'finish_reason': 'STOP', 'model_name': 'gemini-2.5-flash', 'safety_ratings': []}, id='run--1fd234e1-35ad-477e-adc8-f84bb30e1d53-0', tool_calls=[{'name': 'multiply', 'args': {'b': 3.0, 'a': 2.0}, 'id': 'd7e1b78d-8fd1-4261-8155-9302c6d7021d', 'type': 'tool_call'}], usage_metadata={'input_tokens': 72, 'output_tokens': 67, 'total_tokens': 139, 'input_token_details': {'cache_read': 0}, 'output_token_details': {'reasoning': 49}})"
      ]
     },
     "execution_count": 9,
     "metadata": {},
     "output_type": "execute_result"
    }
   ],
   "source": [
    "ai_msg"
   ]
  },
  {
   "cell_type": "code",
   "execution_count": 10,
   "id": "4b144e3d",
   "metadata": {},
   "outputs": [
    {
     "data": {
      "text/plain": [
       "[{'name': 'multiply',\n",
       "  'args': {'b': 3.0, 'a': 2.0},\n",
       "  'id': 'd7e1b78d-8fd1-4261-8155-9302c6d7021d',\n",
       "  'type': 'tool_call'}]"
      ]
     },
     "execution_count": 10,
     "metadata": {},
     "output_type": "execute_result"
    }
   ],
   "source": [
    "ai_msg.tool_calls"
   ]
  },
  {
   "cell_type": "markdown",
   "id": "7175abe6",
   "metadata": {},
   "source": [
    "#### Tool Execution"
   ]
  },
  {
   "cell_type": "code",
   "execution_count": 11,
   "id": "5743f5b0",
   "metadata": {},
   "outputs": [
    {
     "data": {
      "text/plain": [
       "[ToolMessage(content='6', tool_call_id='d7e1b78d-8fd1-4261-8155-9302c6d7021d')]"
      ]
     },
     "execution_count": 11,
     "metadata": {},
     "output_type": "execute_result"
    }
   ],
   "source": [
    "tool_msgs = []\n",
    "for call in ai_msg.tool_calls:\n",
    "    if call[\"name\"] == \"multiply\":\n",
    "        out = multiply.invoke(call[\"args\"])\n",
    "        # Package tool output as a ToolMessage with the SAME tool_call_id\n",
    "        tool_msgs.append(ToolMessage(content=str(out), tool_call_id=call[\"id\"]))\n",
    "\n",
    "tool_msgs"
   ]
  },
  {
   "cell_type": "code",
   "execution_count": 12,
   "id": "03997057",
   "metadata": {},
   "outputs": [
    {
     "name": "stdout",
     "output_type": "stream",
     "text": [
      "The answer is 6.\n"
     ]
    }
   ],
   "source": [
    "# Feed the AIMessage + ToolMessage(s) back to the model to get the final answer\n",
    "messages += [ai_msg] + tool_msgs\n",
    "\n",
    "final = llm_with_tools.invoke(messages)\n",
    "\n",
    "print(final.content)"
   ]
  }
 ],
 "metadata": {
  "kernelspec": {
   "display_name": "Python 3",
   "language": "python",
   "name": "python3"
  },
  "language_info": {
   "codemirror_mode": {
    "name": "ipython",
    "version": 3
   },
   "file_extension": ".py",
   "mimetype": "text/x-python",
   "name": "python",
   "nbconvert_exporter": "python",
   "pygments_lexer": "ipython3",
   "version": "3.12.10"
  }
 },
 "nbformat": 4,
 "nbformat_minor": 5
}

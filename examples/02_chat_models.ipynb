{
 "cells": [
  {
   "cell_type": "markdown",
   "id": "fd5cbd8d-b9f3-42e0-8302-be5c9fc5e4f5",
   "metadata": {},
   "source": [
    "### Langchain Tutorial: Chat Models\n",
    "https://python.langchain.com/docs/integrations/chat/"
   ]
  },
  {
   "cell_type": "code",
   "execution_count": 1,
   "id": "9d1cec91-1c89-499e-86b5-918abb3a4614",
   "metadata": {},
   "outputs": [],
   "source": [
    "!pip install -qU \"langchain[google-genai]\""
   ]
  },
  {
   "cell_type": "code",
   "execution_count": 2,
   "id": "599c9eb9-b01f-435a-80f9-e4b0f49869f9",
   "metadata": {},
   "outputs": [],
   "source": [
    "# Set API Key in Windows Environment Variables 'GOOGLE_API_KEY'\n",
    "\n",
    "import getpass\n",
    "import os\n",
    "\n",
    "if not os.environ.get(\"GOOGLE_API_KEY\"):\n",
    "  os.environ[\"GOOGLE_API_KEY\"] = getpass.getpass(\"Enter API key for Google Gemini: \")\n",
    "\n",
    "from langchain.chat_models import init_chat_model\n",
    "\n",
    "model = init_chat_model(\"gemini-2.5-flash\", model_provider=\"google_genai\")"
   ]
  },
  {
   "cell_type": "code",
   "execution_count": 3,
   "id": "6d854d46-c867-4735-be2e-f9ca4be8cc28",
   "metadata": {},
   "outputs": [
    {
     "name": "stdout",
     "output_type": "stream",
     "text": [
      "That's fantastic! Generative AI (GenAI) is one of the most exciting and rapidly evolving fields in technology right now. I'm here to help you navigate this journey.\n",
      "\n",
      "To give you the best guidance, let's start with a few questions to tailor the learning path to your background:\n",
      "\n",
      "1.  **What's your current technical background?**\n",
      "    *   Are you new to programming?\n",
      "    *   Do you have experience with Python?\n",
      "    *   Are you familiar with Machine Learning (ML) or Deep Learning (DL) concepts? (e.g., what's a neural network, what's supervised learning?)\n",
      "    *   Do you have a strong math/stats background?\n",
      "\n",
      "2.  **What's your primary goal for learning GenAI?**\n",
      "    *   Are you interested in just understanding what it is and how to use tools like ChatGPT or Midjourney effectively (e.g., prompt engineering)?\n",
      "    *   Do you want to develop your own GenAI applications (e.g., integrate LLMs into software, fine-tune models)?\n",
      "    *   Are you aiming for a career in GenAI research or engineering?\n",
      "    *   Are you curious about the underlying models and how they work (e.g., Transformers, Diffusion models)?\n",
      "\n",
      "3.  **How do you prefer to learn?**\n",
      "    *   Online courses (Coursera, edX, Udacity, DeepLearning.AI)?\n",
      "    *   Books and research papers?\n",
      "    *   Hands-on coding projects?\n",
      "    *   Video tutorials (YouTube)?\n",
      "    *   Interactive platforms (Hugging Face)?\n",
      "\n",
      "Once I have a better understanding of your starting point and goals, I can provide a more customized and effective learning roadmap.\n",
      "\n",
      "---\n",
      "\n",
      "**In the meantime, here's a general overview of what learning GenAI typically involves, covering different levels of depth:**\n",
      "\n",
      "### **Phase 1: Understanding the Landscape (Beginner-Friendly)**\n",
      "\n",
      "This phase focuses on conceptual understanding and practical application without deep coding.\n",
      "\n",
      "*   **What is AI, ML, DL, and GenAI?** Differentiate between these terms.\n",
      "*   **Key Applications:** Understand what GenAI can do (text generation, image creation, code generation, music, video, etc.).\n",
      "*   **Prompt Engineering:** This is crucial! Learn the art and science of crafting effective prompts for LLMs (like ChatGPT, Bard, Claude) and text-to-image models (like Midjourney, DALL-E, Stable Diffusion).\n",
      "    *   **Practice:** Spend time experimenting with different models and prompt techniques.\n",
      "*   **Ethical Considerations:** Understand bias, hallucination, copyright, and responsible AI usage.\n",
      "\n",
      "### **Phase 2: Core Concepts & Basic Tools (Intermediate - Assumes some Python/ML interest)**\n",
      "\n",
      "This phase delves a bit deeper into how these models work and introduces basic programming.\n",
      "\n",
      "*   **Python Fundamentals:** If you don't know Python, start here. It's the lingua franca of AI.\n",
      "*   **Basic Machine Learning Concepts:** Understand concepts like neural networks, training, inference, and data.\n",
      "*   **Introduction to Generative Model Types:**\n",
      "    *   **Large Language Models (LLMs):** Understand their architecture (Transformers are key!), pre-training, and fine-tuning.\n",
      "    *   **Diffusion Models:** Learn the basics of how they generate images.\n",
      "    *   *(Optional but good for context: GANs - Generative Adversarial Networks)*\n",
      "*   **Using GenAI APIs:** Learn how to programmatically interact with services like OpenAI's API, Google Gemini API, or Anthropic's Claude API.\n",
      "    *   **Python libraries:** `requests`, `openai` (Python client), `langchain` (for building LLM applications).\n",
      "*   **Hugging Face Ecosystem:** Get familiar with the Hugging Face Hub (for finding models and datasets) and the `transformers` library (for using pre-trained models).\n",
      "\n",
      "### **Phase 3: Deep Dive & Building Applications (Advanced - Assumes Python/ML/DL familiarity)**\n",
      "\n",
      "This phase is for those who want to build, customize, and deploy GenAI solutions.\n",
      "\n",
      "*   **Transformer Architecture in Depth:** Understand self-attention, multi-head attention, encoders, and decoders.\n",
      "*   **Fine-tuning LLMs/Diffusion Models:** Learn techniques like LoRA (Low-Rank Adaptation) and PEFT (Parameter-Efficient Fine-Tuning) to adapt pre-trained models to specific tasks or datasets.\n",
      "*   **Retrieval Augmented Generation (RAG):** A critical technique to make LLMs more factual and grounded by integrating them with external knowledge bases (e.g., using vector databases like Pinecone, ChromaDB, Weaviate, and embedding models).\n",
      "*   **Advanced Prompt Engineering & Guardrails:** Techniques for complex prompting, chain-of-thought, and ensuring safe/reliable outputs.\n",
      "*   **Model Evaluation:** How do you measure the performance of generative models? (e.g., BLEU, ROUGE for text; FID, Inception Score for images).\n",
      "*   **Deployment:** How to take a GenAI model from development to production (e.g., using cloud platforms like AWS SageMaker, Google Cloud AI Platform, Azure ML).\n",
      "*   **Emerging Trends:** Multi-modal AI, agentic workflows, smaller/more efficient models, custom hardware.\n",
      "\n",
      "---\n",
      "\n",
      "**Popular Resources:**\n",
      "\n",
      "*   **Online Courses:**\n",
      "    *   **DeepLearning.AI:** Offers excellent specialization courses on GenAI, LLMs, Prompt Engineering, and more, often in partnership with Google or OpenAI (e.g., \"Generative AI with Transformers\" on Coursera).\n",
      "    *   **Coursera/edX:** Many universities offer courses on AI, ML, and specific GenAI topics.\n",
      "*   **Hugging Face:** Their website, documentation, and tutorials are invaluable for practical work. Check out their \" 🤗 Transformers Course\".\n",
      "*   **YouTube Channels:** \"AI Coffee Break,\" \"Weights & Biases,\" \"The AI Epiphany,\" \"Code with Chris\" (for Python basics).\n",
      "*   **Blogs & Newsletters:** Towards Data Science, Synced, various AI research labs' blogs.\n",
      "*   **Books:** For deep dives, \"Deep Learning\" by Goodfellow et al. is a classic, though not GenAI specific. Look for newer books specifically on Transformers or LLMs.\n",
      "\n",
      "---\n",
      "\n",
      "Let me know your answers to the initial questions, and we can map out a more precise learning path for you!\n"
     ]
    }
   ],
   "source": [
    "response = model.invoke(\"I am here to learn GenAI\")\n",
    "print(response.content)"
   ]
  },
  {
   "cell_type": "code",
   "execution_count": 4,
   "id": "a22ffc62-55be-4ae8-9c18-dd9a5b5b58f7",
   "metadata": {},
   "outputs": [
    {
     "name": "stdout",
     "output_type": "stream",
     "text": [
      "content='That\\'s fantastic! Generative AI (GenAI) is one of the most exciting and rapidly evolving fields in technology right now. I\\'m here to help you navigate this journey.\\n\\nTo give you the best guidance, let\\'s start with a few questions to tailor the learning path to your background:\\n\\n1.  **What\\'s your current technical background?**\\n    *   Are you new to programming?\\n    *   Do you have experience with Python?\\n    *   Are you familiar with Machine Learning (ML) or Deep Learning (DL) concepts? (e.g., what\\'s a neural network, what\\'s supervised learning?)\\n    *   Do you have a strong math/stats background?\\n\\n2.  **What\\'s your primary goal for learning GenAI?**\\n    *   Are you interested in just understanding what it is and how to use tools like ChatGPT or Midjourney effectively (e.g., prompt engineering)?\\n    *   Do you want to develop your own GenAI applications (e.g., integrate LLMs into software, fine-tune models)?\\n    *   Are you aiming for a career in GenAI research or engineering?\\n    *   Are you curious about the underlying models and how they work (e.g., Transformers, Diffusion models)?\\n\\n3.  **How do you prefer to learn?**\\n    *   Online courses (Coursera, edX, Udacity, DeepLearning.AI)?\\n    *   Books and research papers?\\n    *   Hands-on coding projects?\\n    *   Video tutorials (YouTube)?\\n    *   Interactive platforms (Hugging Face)?\\n\\nOnce I have a better understanding of your starting point and goals, I can provide a more customized and effective learning roadmap.\\n\\n---\\n\\n**In the meantime, here\\'s a general overview of what learning GenAI typically involves, covering different levels of depth:**\\n\\n### **Phase 1: Understanding the Landscape (Beginner-Friendly)**\\n\\nThis phase focuses on conceptual understanding and practical application without deep coding.\\n\\n*   **What is AI, ML, DL, and GenAI?** Differentiate between these terms.\\n*   **Key Applications:** Understand what GenAI can do (text generation, image creation, code generation, music, video, etc.).\\n*   **Prompt Engineering:** This is crucial! Learn the art and science of crafting effective prompts for LLMs (like ChatGPT, Bard, Claude) and text-to-image models (like Midjourney, DALL-E, Stable Diffusion).\\n    *   **Practice:** Spend time experimenting with different models and prompt techniques.\\n*   **Ethical Considerations:** Understand bias, hallucination, copyright, and responsible AI usage.\\n\\n### **Phase 2: Core Concepts & Basic Tools (Intermediate - Assumes some Python/ML interest)**\\n\\nThis phase delves a bit deeper into how these models work and introduces basic programming.\\n\\n*   **Python Fundamentals:** If you don\\'t know Python, start here. It\\'s the lingua franca of AI.\\n*   **Basic Machine Learning Concepts:** Understand concepts like neural networks, training, inference, and data.\\n*   **Introduction to Generative Model Types:**\\n    *   **Large Language Models (LLMs):** Understand their architecture (Transformers are key!), pre-training, and fine-tuning.\\n    *   **Diffusion Models:** Learn the basics of how they generate images.\\n    *   *(Optional but good for context: GANs - Generative Adversarial Networks)*\\n*   **Using GenAI APIs:** Learn how to programmatically interact with services like OpenAI\\'s API, Google Gemini API, or Anthropic\\'s Claude API.\\n    *   **Python libraries:** `requests`, `openai` (Python client), `langchain` (for building LLM applications).\\n*   **Hugging Face Ecosystem:** Get familiar with the Hugging Face Hub (for finding models and datasets) and the `transformers` library (for using pre-trained models).\\n\\n### **Phase 3: Deep Dive & Building Applications (Advanced - Assumes Python/ML/DL familiarity)**\\n\\nThis phase is for those who want to build, customize, and deploy GenAI solutions.\\n\\n*   **Transformer Architecture in Depth:** Understand self-attention, multi-head attention, encoders, and decoders.\\n*   **Fine-tuning LLMs/Diffusion Models:** Learn techniques like LoRA (Low-Rank Adaptation) and PEFT (Parameter-Efficient Fine-Tuning) to adapt pre-trained models to specific tasks or datasets.\\n*   **Retrieval Augmented Generation (RAG):** A critical technique to make LLMs more factual and grounded by integrating them with external knowledge bases (e.g., using vector databases like Pinecone, ChromaDB, Weaviate, and embedding models).\\n*   **Advanced Prompt Engineering & Guardrails:** Techniques for complex prompting, chain-of-thought, and ensuring safe/reliable outputs.\\n*   **Model Evaluation:** How do you measure the performance of generative models? (e.g., BLEU, ROUGE for text; FID, Inception Score for images).\\n*   **Deployment:** How to take a GenAI model from development to production (e.g., using cloud platforms like AWS SageMaker, Google Cloud AI Platform, Azure ML).\\n*   **Emerging Trends:** Multi-modal AI, agentic workflows, smaller/more efficient models, custom hardware.\\n\\n---\\n\\n**Popular Resources:**\\n\\n*   **Online Courses:**\\n    *   **DeepLearning.AI:** Offers excellent specialization courses on GenAI, LLMs, Prompt Engineering, and more, often in partnership with Google or OpenAI (e.g., \"Generative AI with Transformers\" on Coursera).\\n    *   **Coursera/edX:** Many universities offer courses on AI, ML, and specific GenAI topics.\\n*   **Hugging Face:** Their website, documentation, and tutorials are invaluable for practical work. Check out their \" 🤗 Transformers Course\".\\n*   **YouTube Channels:** \"AI Coffee Break,\" \"Weights & Biases,\" \"The AI Epiphany,\" \"Code with Chris\" (for Python basics).\\n*   **Blogs & Newsletters:** Towards Data Science, Synced, various AI research labs\\' blogs.\\n*   **Books:** For deep dives, \"Deep Learning\" by Goodfellow et al. is a classic, though not GenAI specific. Look for newer books specifically on Transformers or LLMs.\\n\\n---\\n\\nLet me know your answers to the initial questions, and we can map out a more precise learning path for you!' additional_kwargs={} response_metadata={'prompt_feedback': {'block_reason': 0, 'safety_ratings': []}, 'finish_reason': 'STOP', 'model_name': 'gemini-2.5-flash', 'safety_ratings': []} id='run--d4d24c64-eb93-448a-8fcd-cfa5ad0bf611-0' usage_metadata={'input_tokens': 8, 'output_tokens': 2880, 'total_tokens': 2888, 'input_token_details': {'cache_read': 0}, 'output_token_details': {'reasoning': 1496}}\n"
     ]
    }
   ],
   "source": [
    "print(response)"
   ]
  }
 ],
 "metadata": {
  "kernelspec": {
   "display_name": "Python 3",
   "language": "python",
   "name": "python3"
  },
  "language_info": {
   "codemirror_mode": {
    "name": "ipython",
    "version": 3
   },
   "file_extension": ".py",
   "mimetype": "text/x-python",
   "name": "python",
   "nbconvert_exporter": "python",
   "pygments_lexer": "ipython3",
   "version": "3.12.10"
  }
 },
 "nbformat": 4,
 "nbformat_minor": 5
}

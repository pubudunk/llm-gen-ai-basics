{
 "cells": [
  {
   "cell_type": "markdown",
   "id": "fd5cbd8d-b9f3-42e0-8302-be5c9fc5e4f5",
   "metadata": {},
   "source": [
    "### Langchain Tutorial: Chat Models\n",
    "https://python.langchain.com/docs/integrations/chat/"
   ]
  },
  {
   "cell_type": "code",
   "execution_count": 1,
   "id": "9d1cec91-1c89-499e-86b5-918abb3a4614",
   "metadata": {},
   "outputs": [],
   "source": [
    "!pip install -qU \"langchain[google-genai]\""
   ]
  },
  {
   "cell_type": "code",
   "execution_count": 2,
   "id": "599c9eb9-b01f-435a-80f9-e4b0f49869f9",
   "metadata": {},
   "outputs": [],
   "source": [
    "# Set API Key in Windows Environment Variables 'GOOGLE_API_KEY'\n",
    "\n",
    "import getpass\n",
    "import os\n",
    "\n",
    "if not os.environ.get(\"GOOGLE_API_KEY\"):\n",
    "  os.environ[\"GOOGLE_API_KEY\"] = getpass.getpass(\"Enter API key for Google Gemini: \")\n",
    "\n",
    "from langchain.chat_models import init_chat_model\n",
    "\n",
    "model = init_chat_model(\"gemini-2.5-flash\", model_provider=\"google_genai\")"
   ]
  },
  {
   "cell_type": "code",
   "execution_count": 3,
   "id": "6d854d46-c867-4735-be2e-f9ca4be8cc28",
   "metadata": {},
   "outputs": [
    {
     "name": "stdout",
     "output_type": "stream",
     "text": [
      "That's fantastic! Generative AI (GenAI) is a rapidly evolving and incredibly exciting field. I'm here to help you understand it, from the basics to more advanced concepts and practical applications.\n",
      "\n",
      "To get started, tell me:\n",
      "\n",
      "1.  **What sparked your interest in GenAI?** (e.g., have you used ChatGPT, seen AI-generated art, read an article?)\n",
      "2.  **What's your current level of understanding?** (e.g., completely new, some tech background, familiar with traditional AI/ML?)\n",
      "3.  **What are you hoping to learn today or in the near future?** (e.g., just a general overview, how it works, its applications, ethical concerns, how to use it?)\n",
      "\n",
      "We can cover topics like:\n",
      "\n",
      "*   **What is Generative AI?** (Definition, key differences from traditional AI)\n",
      "*   **How does it work?** (Brief overview of models like LLMs, diffusion models, transformers)\n",
      "*   **Key applications and use cases** (Text generation, image generation, code, music, etc.)\n",
      "*   **Popular GenAI tools and platforms** (ChatGPT, Midjourney, Stable Diffusion, Bard, etc.)\n",
      "*   **The underlying concepts** (Prompts, tokens, fine-tuning, RAG)\n",
      "*   **Ethical considerations and limitations** (Bias, hallucinations, job displacement)\n",
      "*   **The future of GenAI**\n",
      "\n",
      "Just let me know where you'd like to begin!\n"
     ]
    }
   ],
   "source": [
    "response = model.invoke(\"I am here to learn GenAI\")\n",
    "print(response.content)"
   ]
  },
  {
   "cell_type": "code",
   "execution_count": 4,
   "id": "a22ffc62-55be-4ae8-9c18-dd9a5b5b58f7",
   "metadata": {},
   "outputs": [
    {
     "name": "stdout",
     "output_type": "stream",
     "text": [
      "content=\"That's fantastic! Generative AI (GenAI) is a rapidly evolving and incredibly exciting field. I'm here to help you understand it, from the basics to more advanced concepts and practical applications.\\n\\nTo get started, tell me:\\n\\n1.  **What sparked your interest in GenAI?** (e.g., have you used ChatGPT, seen AI-generated art, read an article?)\\n2.  **What's your current level of understanding?** (e.g., completely new, some tech background, familiar with traditional AI/ML?)\\n3.  **What are you hoping to learn today or in the near future?** (e.g., just a general overview, how it works, its applications, ethical concerns, how to use it?)\\n\\nWe can cover topics like:\\n\\n*   **What is Generative AI?** (Definition, key differences from traditional AI)\\n*   **How does it work?** (Brief overview of models like LLMs, diffusion models, transformers)\\n*   **Key applications and use cases** (Text generation, image generation, code, music, etc.)\\n*   **Popular GenAI tools and platforms** (ChatGPT, Midjourney, Stable Diffusion, Bard, etc.)\\n*   **The underlying concepts** (Prompts, tokens, fine-tuning, RAG)\\n*   **Ethical considerations and limitations** (Bias, hallucinations, job displacement)\\n*   **The future of GenAI**\\n\\nJust let me know where you'd like to begin!\" additional_kwargs={} response_metadata={'prompt_feedback': {'block_reason': 0, 'safety_ratings': []}, 'finish_reason': 'STOP', 'model_name': 'gemini-2.5-flash', 'safety_ratings': []} id='run--761b5f94-4189-47aa-bf27-4848d964e680-0' usage_metadata={'input_tokens': 8, 'output_tokens': 1107, 'total_tokens': 1115, 'input_token_details': {'cache_read': 0}, 'output_token_details': {'reasoning': 785}}\n"
     ]
    }
   ],
   "source": [
    "print(response)"
   ]
  }
 ],
 "metadata": {
  "kernelspec": {
   "display_name": "Python 3",
   "language": "python",
   "name": "python3"
  },
  "language_info": {
   "codemirror_mode": {
    "name": "ipython",
    "version": 3
   },
   "file_extension": ".py",
   "mimetype": "text/x-python",
   "name": "python",
   "nbconvert_exporter": "python",
   "pygments_lexer": "ipython3",
   "version": "3.12.10"
  }
 },
 "nbformat": 4,
 "nbformat_minor": 5
}
